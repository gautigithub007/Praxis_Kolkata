{
  "nbformat": 4,
  "nbformat_minor": 0,
  "metadata": {
    "colab": {
      "name": " Project A21012_ Logistic Regression_Marketing Agency Customer Churn.ipynb",
      "provenance": [],
      "collapsed_sections": []
    },
    "kernelspec": {
      "name": "python3",
      "display_name": "Python 3"
    },
    "language_info": {
      "name": "python"
    }
  },
  "cells": [
    {
      "cell_type": "markdown",
      "source": [
        "# Customer Churn Prediction\n"
      ],
      "metadata": {
        "id": "pyVz4m6ATzm3"
      }
    },
    {
      "cell_type": "markdown",
      "source": [
        "## Problem Statement"
      ],
      "metadata": {
        "id": "w3FrPTEy_f5t"
      }
    },
    {
      "cell_type": "markdown",
      "source": [
        "There is a marketing agency, that has number of customers using their service to produce ads for the client / customer websites. They have noticed quite a bit of churn in the numbers  of their clients.  Hence, there is need to create a machine learning model that will help to predict which customers are likely to get churned, who will stop buying their service in future, so that, Agency can take corrective measures to improve business efficiency."
      ],
      "metadata": {
        "id": "HxmDNSGu-__8"
      }
    },
    {
      "cell_type": "markdown",
      "source": [
        "### -> Training data is named as 'customer_churn.csv'. Below are mentioned fields and their definitions as per given dataset\n",
        "\n",
        "---\n",
        "\n",
        "    Name : Name of the latest contact at Company\n",
        "    Age: Customer Age\n",
        "    Total_Purchase: Total Ads Purchased\n",
        "    Account_Manager: Binary 0=No manager, 1= Account manager assigned\n",
        "    Years: Totaly Years as a customer\n",
        "    Num_sites: Number of websites that use the service.\n",
        "    Onboard_date: Date that the name of the latest contact was onboarded\n",
        "    Location: Client HQ Address\n",
        "    Company: Name of Client Company \n"
      ],
      "metadata": {
        "id": "cAcPpaRlUJg-"
      }
    },
    {
      "cell_type": "markdown",
      "source": [
        "### i) Installing Spark"
      ],
      "metadata": {
        "id": "1d4lFO1wdReW"
      }
    },
    {
      "cell_type": "code",
      "execution_count": null,
      "metadata": {
        "colab": {
          "base_uri": "https://localhost:8080/"
        },
        "id": "wf4GAelXOWK1",
        "outputId": "2d6675b1-d98b-47b4-e6a2-b1b54b908340"
      },
      "outputs": [
        {
          "output_type": "stream",
          "name": "stdout",
          "text": [
            "\n",
            "WARNING: apt does not have a stable CLI interface. Use with caution in scripts.\n",
            "\n",
            "\n",
            "WARNING: apt does not have a stable CLI interface. Use with caution in scripts.\n",
            "\n"
          ]
        }
      ],
      "source": [
        "!apt update > /dev/null\n",
        "!apt install openjdk-8-jdk-headless -qq > /dev/null"
      ]
    },
    {
      "cell_type": "code",
      "source": [
        "# Get latest and correct version of Spark\n",
        "# if the current version of Spark is not used, there may be errors\n",
        "# check here for current versions http://apache.osuosl.org/spark\n",
        "#!wget -q http://apache.osuosl.org/spark/spark-2.2.2/spark-2.2.2-bin-hadoop2.7.tgz\n",
        "#!wget -q http://apache.osuosl.org/spark/spark-2.4.0/spark-2.4.0-bin-hadoop2.7.tgz\n",
        "#!wget -q http://apache.osuosl.org/spark/spark-2.4.3/spark-2.4.3-bin-hadoop2.7.tgz\n",
        "#!wget -q http://apache.osuosl.org/spark/spark-2.4.4/spark-2.4.4-bin-hadoop2.7.tgz\n",
        "#!wget -q http://apache.osuosl.org/spark/spark-2.4.5/spark-2.4.5-bin-hadoop2.7.tgz\n",
        "#!wget -q http://apache.osuosl.org/spark/spark-3.0.1/spark-3.0.1-bin-hadoop3.2.tgz\n",
        "!wget -q http://apache.osuosl.org/spark/spark-3.1.2/spark-3.1.2-bin-hadoop3.2.tgz\n",
        "\n",
        "#!tar xf spark-2.4.5-bin-hadoop2.7.tgz\n",
        "#!tar xf spark-3.0.1-bin-hadoop3.2.tgz\n",
        "!tar xf spark-3.1.2-bin-hadoop3.2.tgz\n",
        "#!pip install -q findspark\n",
        "!pip install -q pyspark\n",
        "\n",
        "import os\n",
        "os.environ[\"JAVA_HOME\"] = \"/usr/lib/jvm/java-8-openjdk-amd64\"\n",
        "#os.environ[\"SPARK_HOME\"] = \"/content/spark-2.4.0-bin-hadoop2.7\"\n",
        "#os.environ[\"SPARK_HOME\"] = \"/content/spark-2.4.4-bin-hadoop2.7\"\n",
        "#os.environ[\"SPARK_HOME\"] = \"/content/spark-2.4.5-bin-hadoop2.7\"\n",
        "#os.environ[\"SPARK_HOME\"] = \"/content/spark-3.0.1-bin-hadoop3.2\"\n",
        "os.environ[\"SPARK_HOME\"] = \"/content/spark-3.1.2-bin-hadoop3.2\""
      ],
      "metadata": {
        "colab": {
          "base_uri": "https://localhost:8080/"
        },
        "id": "X5s5xIHIOaM5",
        "outputId": "132e4b34-3ce4-4006-8d5c-b587821712d6"
      },
      "execution_count": null,
      "outputs": [
        {
          "output_type": "stream",
          "name": "stdout",
          "text": [
            "\u001b[K     |████████████████████████████████| 281.4 MB 36 kB/s \n",
            "\u001b[K     |████████████████████████████████| 198 kB 29.6 MB/s \n",
            "\u001b[?25h  Building wheel for pyspark (setup.py) ... \u001b[?25l\u001b[?25hdone\n"
          ]
        }
      ]
    },
    {
      "cell_type": "code",
      "source": [
        "from pyspark.sql import SparkSession\n",
        "#spark = SparkSession.builder.master(\"local[*]\").getOrCreate()\n",
        "# note UI port switched from default 4040 to 4050 to avoid clash with ngrok\n",
        "spark = SparkSession.builder.master(\"local[*]\").config('spark.ui.port', '4050').getOrCreate()"
      ],
      "metadata": {
        "id": "bYzeB9YCOcGI"
      },
      "execution_count": null,
      "outputs": []
    },
    {
      "cell_type": "markdown",
      "source": [
        "#### ii) Loading training data"
      ],
      "metadata": {
        "id": "AXJiitvsdV2g"
      }
    },
    {
      "cell_type": "code",
      "source": [
        "data= spark.read.csv('/content/customer_churn.csv',inferSchema=True,header=True)"
      ],
      "metadata": {
        "id": "2qj0EUwoOdsk"
      },
      "execution_count": null,
      "outputs": []
    },
    {
      "cell_type": "markdown",
      "source": [
        "#### iii) The inferred schema can be visualized as below:"
      ],
      "metadata": {
        "id": "UmROdMWxgKNA"
      }
    },
    {
      "cell_type": "code",
      "source": [
        "data.printSchema()"
      ],
      "metadata": {
        "colab": {
          "base_uri": "https://localhost:8080/"
        },
        "id": "yZPw_y1MOpFR",
        "outputId": "c669f91a-d6ea-4c10-d933-de817d6205ee"
      },
      "execution_count": null,
      "outputs": [
        {
          "output_type": "stream",
          "name": "stdout",
          "text": [
            "root\n",
            " |-- Names: string (nullable = true)\n",
            " |-- Age: double (nullable = true)\n",
            " |-- Total_Purchase: double (nullable = true)\n",
            " |-- Account_Manager: integer (nullable = true)\n",
            " |-- Years: double (nullable = true)\n",
            " |-- Num_Sites: double (nullable = true)\n",
            " |-- Onboard_date: string (nullable = true)\n",
            " |-- Location: string (nullable = true)\n",
            " |-- Company: string (nullable = true)\n",
            " |-- Churn: integer (nullable = true)\n",
            "\n"
          ]
        }
      ]
    },
    {
      "cell_type": "markdown",
      "source": [
        "#### iv) Computing summary statistics on the DataFrame:"
      ],
      "metadata": {
        "id": "bAtF__Zogsrp"
      }
    },
    {
      "cell_type": "code",
      "source": [
        "data.describe().show()"
      ],
      "metadata": {
        "colab": {
          "base_uri": "https://localhost:8080/"
        },
        "id": "oeSeaMXTO9UL",
        "outputId": "aed8bce6-cc74-4270-d230-0168ff4c69ef"
      },
      "execution_count": null,
      "outputs": [
        {
          "output_type": "stream",
          "name": "stdout",
          "text": [
            "+-------+-------------+-----------------+-----------------+------------------+-----------------+------------------+-------------------+--------------------+--------------------+-------------------+\n",
            "|summary|        Names|              Age|   Total_Purchase|   Account_Manager|            Years|         Num_Sites|       Onboard_date|            Location|             Company|              Churn|\n",
            "+-------+-------------+-----------------+-----------------+------------------+-----------------+------------------+-------------------+--------------------+--------------------+-------------------+\n",
            "|  count|          900|              900|              900|               900|              900|               900|                900|                 900|                 900|                900|\n",
            "|   mean|         null|41.81666666666667|10062.82403333334|0.4811111111111111| 5.27315555555555| 8.587777777777777|               null|                null|                null|0.16666666666666666|\n",
            "| stddev|         null|6.127560416916251|2408.644531858096|0.4999208935073339|1.274449013194616|1.7648355920350969|               null|                null|                null| 0.3728852122772358|\n",
            "|    min|   Aaron King|             22.0|            100.0|                 0|              1.0|               3.0|2006-01-02 04:16:13|00103 Jeffrey Cre...|     Abbott-Thompson|                  0|\n",
            "|    max|Zachary Walsh|             65.0|         18026.01|                 1|             9.15|              14.0|2016-12-28 04:07:38|Unit 9800 Box 287...|Zuniga, Clark and...|                  1|\n",
            "+-------+-------------+-----------------+-----------------+------------------+-----------------+------------------+-------------------+--------------------+--------------------+-------------------+\n",
            "\n"
          ]
        }
      ]
    },
    {
      "cell_type": "markdown",
      "source": [
        "####v) Getting all column names as a list:"
      ],
      "metadata": {
        "id": "fE-YlvQ8hUh7"
      }
    },
    {
      "cell_type": "code",
      "source": [
        "data.columns"
      ],
      "metadata": {
        "colab": {
          "base_uri": "https://localhost:8080/"
        },
        "id": "1ftQ3gkWO9oN",
        "outputId": "e62aeba1-7219-4b52-9eed-82cc4318dee7"
      },
      "execution_count": null,
      "outputs": [
        {
          "output_type": "execute_result",
          "data": {
            "text/plain": [
              "['Names',\n",
              " 'Age',\n",
              " 'Total_Purchase',\n",
              " 'Account_Manager',\n",
              " 'Years',\n",
              " 'Num_Sites',\n",
              " 'Onboard_date',\n",
              " 'Location',\n",
              " 'Company',\n",
              " 'Churn']"
            ]
          },
          "metadata": {},
          "execution_count": 9
        }
      ]
    },
    {
      "cell_type": "markdown",
      "source": [
        "#####vi) Importing Libraries for Vector Assembeler"
      ],
      "metadata": {
        "id": "N1f2vOI-h016"
      }
    },
    {
      "cell_type": "code",
      "source": [
        "from pyspark.ml.linalg import Vectors\n",
        "from pyspark.ml.feature import VectorAssembler"
      ],
      "metadata": {
        "id": "_9LtqWrJO_99"
      },
      "execution_count": null,
      "outputs": []
    },
    {
      "cell_type": "markdown",
      "source": [
        "#### vii) Setting Vector Assembeler:"
      ],
      "metadata": {
        "id": "s08yURRqidOi"
      }
    },
    {
      "cell_type": "code",
      "source": [
        "assembler = VectorAssembler(\n",
        "  inputCols=['Age',\n",
        "             'Total_Purchase',\n",
        "             'Account_Manager',\n",
        "             'Years',\n",
        "             'Num_Sites',\n",
        "            ],\n",
        "    outputCol=\"features\")"
      ],
      "metadata": {
        "id": "kCsCWdxmPCm6"
      },
      "execution_count": null,
      "outputs": []
    },
    {
      "cell_type": "markdown",
      "source": [
        "#### viii) Utilizing Assembler to Transform the Data "
      ],
      "metadata": {
        "id": "7ZrIxjBMjDx2"
      }
    },
    {
      "cell_type": "code",
      "source": [
        "output = assembler.transform(data)"
      ],
      "metadata": {
        "id": "gODTV_Z3PGa5"
      },
      "execution_count": null,
      "outputs": []
    },
    {
      "cell_type": "markdown",
      "source": [
        "####ix) Data Outcome of Features Vector and Churn Data Binary Classifier:"
      ],
      "metadata": {
        "id": "xDqeTqiajPZx"
      }
    },
    {
      "cell_type": "code",
      "source": [
        "final_data = output.select('features','churn')"
      ],
      "metadata": {
        "id": "fUFCU3vpPJ4i"
      },
      "execution_count": null,
      "outputs": []
    },
    {
      "cell_type": "markdown",
      "source": [
        "####x) Show Data:"
      ],
      "metadata": {
        "id": "mxn9ub2Ypwbp"
      }
    },
    {
      "cell_type": "code",
      "source": [
        "final_data.show()"
      ],
      "metadata": {
        "colab": {
          "base_uri": "https://localhost:8080/"
        },
        "id": "YU8y0eK2jdxg",
        "outputId": "07935b5d-5ed0-4827-a215-cf61c10c8455"
      },
      "execution_count": null,
      "outputs": [
        {
          "output_type": "stream",
          "name": "stdout",
          "text": [
            "+--------------------+-----+\n",
            "|            features|churn|\n",
            "+--------------------+-----+\n",
            "|[42.0,11066.8,0.0...|    1|\n",
            "|[41.0,11916.22,0....|    1|\n",
            "|[38.0,12884.75,0....|    1|\n",
            "|[42.0,8010.76,0.0...|    1|\n",
            "|[37.0,9191.58,0.0...|    1|\n",
            "|[48.0,10356.02,0....|    1|\n",
            "|[44.0,11331.58,1....|    1|\n",
            "|[32.0,9885.12,1.0...|    1|\n",
            "|[43.0,14062.6,1.0...|    1|\n",
            "|[40.0,8066.94,1.0...|    1|\n",
            "|[30.0,11575.37,1....|    1|\n",
            "|[45.0,8771.02,1.0...|    1|\n",
            "|[45.0,8988.67,1.0...|    1|\n",
            "|[40.0,8283.32,1.0...|    1|\n",
            "|[41.0,6569.87,1.0...|    1|\n",
            "|[38.0,10494.82,1....|    1|\n",
            "|[45.0,8213.41,1.0...|    1|\n",
            "|[43.0,11226.88,0....|    1|\n",
            "|[53.0,5515.09,0.0...|    1|\n",
            "|[46.0,8046.4,1.0,...|    1|\n",
            "+--------------------+-----+\n",
            "only showing top 20 rows\n",
            "\n"
          ]
        }
      ]
    },
    {
      "cell_type": "markdown",
      "source": [
        "####xi) Creating Train, Test, Split (70:30):"
      ],
      "metadata": {
        "id": "rxGG3dokp74B"
      }
    },
    {
      "cell_type": "code",
      "source": [
        "train_data,test_data = final_data.randomSplit([0.7,0.3], seed=42)"
      ],
      "metadata": {
        "id": "3Ym-RFU5PLOz"
      },
      "execution_count": null,
      "outputs": []
    },
    {
      "cell_type": "markdown",
      "source": [
        "#### xii) Importing Liberary for Logistic Regression:"
      ],
      "metadata": {
        "id": "-i2B9zYbqdnE"
      }
    },
    {
      "cell_type": "code",
      "source": [
        "from pyspark.ml.classification import LogisticRegression"
      ],
      "metadata": {
        "id": "wMJANs5gPNB4"
      },
      "execution_count": null,
      "outputs": []
    },
    {
      "cell_type": "markdown",
      "source": [
        "#### xii) Instantiating the Model"
      ],
      "metadata": {
        "id": "QTP0Uy1PrJaP"
      }
    },
    {
      "cell_type": "code",
      "source": [
        "lr = LogisticRegression(labelCol='churn')"
      ],
      "metadata": {
        "id": "VDMUG0-kPPCO"
      },
      "execution_count": null,
      "outputs": []
    },
    {
      "cell_type": "markdown",
      "source": [
        "####xiii) Fitting the model mentioning as 'lrModel':"
      ],
      "metadata": {
        "id": "9nYdz9HjrPzq"
      }
    },
    {
      "cell_type": "code",
      "source": [
        "lrModel = lr.fit(train_data)"
      ],
      "metadata": {
        "id": "h3gP1GvdPQZK"
      },
      "execution_count": null,
      "outputs": []
    },
    {
      "cell_type": "markdown",
      "source": [
        "####xiv) Assigning attribute of model"
      ],
      "metadata": {
        "id": "Ar5u4WmeuFGA"
      }
    },
    {
      "cell_type": "code",
      "source": [
        "trainingSummary = lrModel.summary"
      ],
      "metadata": {
        "id": "zvyXsNUxPRkv"
      },
      "execution_count": null,
      "outputs": []
    },
    {
      "cell_type": "code",
      "source": [
        "#trainingSummary.featuresCol"
      ],
      "metadata": {
        "colab": {
          "base_uri": "https://localhost:8080/",
          "height": 35
        },
        "id": "KyqcIIj_PSrA",
        "outputId": "5f3e47b5-1863-4e24-fe0c-07a6b3bf168f"
      },
      "execution_count": null,
      "outputs": [
        {
          "output_type": "execute_result",
          "data": {
            "application/vnd.google.colaboratory.intrinsic+json": {
              "type": "string"
            },
            "text/plain": [
              "'features'"
            ]
          },
          "metadata": {},
          "execution_count": 24
        }
      ]
    },
    {
      "cell_type": "markdown",
      "source": [
        "####xv)  Data Description:"
      ],
      "metadata": {
        "id": "0MqL0qqzuVJb"
      }
    },
    {
      "cell_type": "code",
      "source": [
        "trainingSummary.predictions.describe().show()"
      ],
      "metadata": {
        "colab": {
          "base_uri": "https://localhost:8080/"
        },
        "id": "6YsFm5-kPTmV",
        "outputId": "892866f5-e3fc-406e-9461-96859cb44b9f"
      },
      "execution_count": null,
      "outputs": [
        {
          "output_type": "stream",
          "name": "stderr",
          "text": [
            "/usr/local/lib/python3.7/dist-packages/pyspark/sql/context.py:127: FutureWarning: Deprecated in 3.0.0. Use SparkSession.builder.getOrCreate() instead.\n",
            "  FutureWarning\n"
          ]
        },
        {
          "output_type": "stream",
          "name": "stdout",
          "text": [
            "+-------+------------------+-------------------+\n",
            "|summary|             churn|         prediction|\n",
            "+-------+------------------+-------------------+\n",
            "|  count|               667|                667|\n",
            "|   mean|0.1634182908545727|0.12293853073463268|\n",
            "| stddev|0.3700243606477147|0.32861306618408714|\n",
            "|    min|               0.0|                0.0|\n",
            "|    max|               1.0|                1.0|\n",
            "+-------+------------------+-------------------+\n",
            "\n"
          ]
        }
      ]
    },
    {
      "cell_type": "markdown",
      "source": [
        "####xvi) Prediction Summary:"
      ],
      "metadata": {
        "id": "b4zhaqTHvWip"
      }
    },
    {
      "cell_type": "code",
      "source": [
        "trainingSummary.predictions.show()"
      ],
      "metadata": {
        "colab": {
          "base_uri": "https://localhost:8080/"
        },
        "id": "e_j4kACOvLIn",
        "outputId": "ccefb96c-af27-44ab-960d-3b7ec0e1c9f0"
      },
      "execution_count": null,
      "outputs": [
        {
          "output_type": "stream",
          "name": "stderr",
          "text": [
            "/usr/local/lib/python3.7/dist-packages/pyspark/sql/context.py:127: FutureWarning: Deprecated in 3.0.0. Use SparkSession.builder.getOrCreate() instead.\n",
            "  FutureWarning\n"
          ]
        },
        {
          "output_type": "stream",
          "name": "stdout",
          "text": [
            "+--------------------+-----+--------------------+--------------------+----------+\n",
            "|            features|churn|       rawPrediction|         probability|prediction|\n",
            "+--------------------+-----+--------------------+--------------------+----------+\n",
            "|[22.0,11254.38,1....|  0.0|[4.55979933582600...|[0.98964420615385...|       0.0|\n",
            "|[25.0,9672.03,0.0...|  0.0|[4.67536684163721...|[0.99076399423917...|       0.0|\n",
            "|[26.0,8939.61,0.0...|  0.0|[6.28230375013810...|[0.99813439726403...|       0.0|\n",
            "|[27.0,8628.8,1.0,...|  0.0|[5.32554193456119...|[0.99515784712679...|       0.0|\n",
            "|[28.0,8670.98,0.0...|  0.0|[7.59026142971801...|[0.99949490632507...|       0.0|\n",
            "|[28.0,11128.95,1....|  0.0|[4.09748998252342...|[0.98365719925299...|       0.0|\n",
            "|[29.0,5900.78,1.0...|  0.0|[4.06733654772172...|[0.98316532508264...|       0.0|\n",
            "|[29.0,8688.17,1.0...|  1.0|[2.71962043931940...|[0.93817452170582...|       0.0|\n",
            "|[29.0,9378.24,0.0...|  0.0|[4.73007501034927...|[0.99125140444539...|       0.0|\n",
            "|[29.0,12711.15,0....|  0.0|[5.26411609277401...|[0.99485266780093...|       0.0|\n",
            "|[29.0,13240.01,1....|  0.0|[6.47472517182256...|[0.99846045122220...|       0.0|\n",
            "|[29.0,13255.05,1....|  0.0|[4.04666635370144...|[0.98281976833493...|       0.0|\n",
            "|[30.0,7960.64,1.0...|  1.0|[3.13526560315970...|[0.95832420374187...|       0.0|\n",
            "|[30.0,8677.28,1.0...|  0.0|[4.06908068623305...|[0.98319416847383...|       0.0|\n",
            "|[30.0,10744.14,1....|  1.0|[1.77952212081391...|[0.85563784748119...|       0.0|\n",
            "|[30.0,10960.52,1....|  0.0|[2.40247371653413...|[0.91701574236027...|       0.0|\n",
            "|[30.0,11575.37,1....|  1.0|[3.89386102662958...|[0.98003995912315...|       0.0|\n",
            "|[31.0,5387.75,0.0...|  0.0|[2.66975039133111...|[0.93521791040227...|       0.0|\n",
            "|[31.0,8688.21,0.0...|  0.0|[6.48214911148481...|[0.99847182101653...|       0.0|\n",
            "|[31.0,10058.87,1....|  0.0|[4.34147214764123...|[0.98714992332491...|       0.0|\n",
            "+--------------------+-----+--------------------+--------------------+----------+\n",
            "only showing top 20 rows\n",
            "\n"
          ]
        }
      ]
    },
    {
      "cell_type": "markdown",
      "source": [
        "#### xvii) Importing Library to Evaluate the Model:"
      ],
      "metadata": {
        "id": "z7IhOb5cv90M"
      }
    },
    {
      "cell_type": "code",
      "source": [
        "from pyspark.mllib.evaluation import MulticlassMetrics"
      ],
      "metadata": {
        "id": "jbfwEmQPPVIi"
      },
      "execution_count": null,
      "outputs": []
    },
    {
      "cell_type": "markdown",
      "source": [
        "####xviii) Prediction with Labels:"
      ],
      "metadata": {
        "id": "0oXsAUJIwEeT"
      }
    },
    {
      "cell_type": "code",
      "source": [
        "predictionAndLabels = lrModel.evaluate(test_data)"
      ],
      "metadata": {
        "id": "zPOJMJYBPWxw"
      },
      "execution_count": null,
      "outputs": []
    },
    {
      "cell_type": "markdown",
      "source": [
        "####xix) Prediction Data:"
      ],
      "metadata": {
        "id": "2ltUfhLNwXK7"
      }
    },
    {
      "cell_type": "code",
      "source": [
        "predictionAndLabels.predictions.show()"
      ],
      "metadata": {
        "colab": {
          "base_uri": "https://localhost:8080/"
        },
        "id": "CalV1z0jPX2d",
        "outputId": "dfe34ed9-9bbe-4e85-d4d1-f28fbd71c195"
      },
      "execution_count": null,
      "outputs": [
        {
          "output_type": "stream",
          "name": "stderr",
          "text": [
            "/usr/local/lib/python3.7/dist-packages/pyspark/sql/context.py:127: FutureWarning: Deprecated in 3.0.0. Use SparkSession.builder.getOrCreate() instead.\n",
            "  FutureWarning\n"
          ]
        },
        {
          "output_type": "stream",
          "name": "stdout",
          "text": [
            "+--------------------+-----+--------------------+--------------------+----------+\n",
            "|            features|churn|       rawPrediction|         probability|prediction|\n",
            "+--------------------+-----+--------------------+--------------------+----------+\n",
            "|[26.0,8787.39,1.0...|    1|[0.45556621649245...|[0.61196183386580...|       0.0|\n",
            "|[28.0,8670.98,0.0...|    0|[7.42728848152859...|[0.99940555544108...|       0.0|\n",
            "|[28.0,11204.23,0....|    0|[1.66600109078847...|[0.84104193421074...|       0.0|\n",
            "|[29.0,8688.17,1.0...|    1|[2.48412942065942...|[0.92302171705931...|       0.0|\n",
            "|[29.0,9378.24,0.0...|    0|[4.45490353219201...|[0.98851206543727...|       0.0|\n",
            "|[29.0,9617.59,0.0...|    0|[4.12434942126402...|[0.98408342132510...|       0.0|\n",
            "|[29.0,12711.15,0....|    0|[5.08391036969074...|[0.99384251516006...|       0.0|\n",
            "|[29.0,13255.05,1....|    0|[4.02401999680907...|[0.98243317242450...|       0.0|\n",
            "|[30.0,8403.78,1.0...|    0|[5.70126594447149...|[0.99666939765053...|       0.0|\n",
            "|[30.0,12788.37,0....|    0|[2.32400018580563...|[0.91084531456932...|       0.0|\n",
            "|[30.0,13473.35,0....|    0|[2.58056932025682...|[0.92960053646241...|       0.0|\n",
            "|[31.0,5387.75,0.0...|    0|[2.15818726715726...|[0.89643137139725...|       0.0|\n",
            "|[31.0,7073.61,0.0...|    0|[2.75672044858066...|[0.94029177531706...|       0.0|\n",
            "|[31.0,10058.87,1....|    0|[4.20857287756056...|[0.98535023536721...|       0.0|\n",
            "|[31.0,11297.57,1....|    1|[0.82688813620329...|[0.69569654082365...|       0.0|\n",
            "|[31.0,11743.24,0....|    0|[6.42863228904714...|[0.99838794520670...|       0.0|\n",
            "|[32.0,7896.65,0.0...|    0|[3.05289560882484...|[0.95490737371746...|       0.0|\n",
            "|[32.0,8011.38,0.0...|    0|[1.72224584920616...|[0.84841788978338...|       0.0|\n",
            "|[32.0,9472.72,1.0...|    0|[3.84894912729585...|[0.97914220457599...|       0.0|\n",
            "|[32.0,10716.75,0....|    0|[4.14690934562746...|[0.98443295086548...|       0.0|\n",
            "+--------------------+-----+--------------------+--------------------+----------+\n",
            "only showing top 20 rows\n",
            "\n"
          ]
        }
      ]
    },
    {
      "cell_type": "markdown",
      "source": [
        "#### -> There is a Difference in Actual Tested Data with Evaluated Data"
      ],
      "metadata": {
        "id": "mlVOu-PRxG3g"
      }
    },
    {
      "cell_type": "code",
      "source": [
        "predictionAndLabels = predictionAndLabels.predictions.select('churn','prediction')"
      ],
      "metadata": {
        "colab": {
          "base_uri": "https://localhost:8080/"
        },
        "id": "zCSUlw0JPY_i",
        "outputId": "f3229176-27f2-423a-ba37-cda39b4ae56e"
      },
      "execution_count": null,
      "outputs": [
        {
          "output_type": "stream",
          "name": "stderr",
          "text": [
            "/usr/local/lib/python3.7/dist-packages/pyspark/sql/context.py:127: FutureWarning: Deprecated in 3.0.0. Use SparkSession.builder.getOrCreate() instead.\n",
            "  FutureWarning\n"
          ]
        }
      ]
    },
    {
      "cell_type": "code",
      "source": [
        "predictionAndLabels.show()"
      ],
      "metadata": {
        "colab": {
          "base_uri": "https://localhost:8080/"
        },
        "id": "6Vo_nkSNPdht",
        "outputId": "e8f5101f-34dd-4e99-e32f-47d9caf54ed2"
      },
      "execution_count": null,
      "outputs": [
        {
          "output_type": "stream",
          "name": "stdout",
          "text": [
            "+-----+----------+\n",
            "|churn|prediction|\n",
            "+-----+----------+\n",
            "|    1|       0.0|\n",
            "|    0|       0.0|\n",
            "|    0|       0.0|\n",
            "|    1|       0.0|\n",
            "|    0|       0.0|\n",
            "|    0|       0.0|\n",
            "|    0|       0.0|\n",
            "|    0|       0.0|\n",
            "|    0|       0.0|\n",
            "|    0|       0.0|\n",
            "|    0|       0.0|\n",
            "|    0|       0.0|\n",
            "|    0|       0.0|\n",
            "|    0|       0.0|\n",
            "|    1|       0.0|\n",
            "|    0|       0.0|\n",
            "|    0|       0.0|\n",
            "|    0|       0.0|\n",
            "|    0|       0.0|\n",
            "|    0|       0.0|\n",
            "+-----+----------+\n",
            "only showing top 20 rows\n",
            "\n"
          ]
        }
      ]
    },
    {
      "cell_type": "markdown",
      "source": [
        "####xx) Importing Library"
      ],
      "metadata": {
        "id": "G-cAXQy0xpLF"
      }
    },
    {
      "cell_type": "code",
      "source": [
        "from pyspark.ml.evaluation import BinaryClassificationEvaluator, MulticlassClassificationEvaluator"
      ],
      "metadata": {
        "id": "NrtmwkboPfAA"
      },
      "execution_count": null,
      "outputs": []
    },
    {
      "cell_type": "markdown",
      "source": [
        "####xxi) Evaluator for Binary Classification:"
      ],
      "metadata": {
        "id": "BUH5Dxk7x3Tc"
      }
    },
    {
      "cell_type": "code",
      "source": [
        "evaluator = BinaryClassificationEvaluator(rawPredictionCol='prediction', labelCol='churn')"
      ],
      "metadata": {
        "id": "FPvbFGVGPhBT"
      },
      "execution_count": null,
      "outputs": []
    },
    {
      "cell_type": "markdown",
      "source": [
        "####xxii) Calculating AUC (Area Under the Curve):"
      ],
      "metadata": {
        "id": "6RBMAaulyDHJ"
      }
    },
    {
      "cell_type": "code",
      "source": [
        "AUC = evaluator.evaluate(predictionAndLabels)"
      ],
      "metadata": {
        "id": "rrOyp5bKPibV"
      },
      "execution_count": null,
      "outputs": []
    },
    {
      "cell_type": "code",
      "source": [
        "AUC"
      ],
      "metadata": {
        "colab": {
          "base_uri": "https://localhost:8080/"
        },
        "id": "TsQr3Lw5PjaS",
        "outputId": "3f682642-8209-47c4-b8b1-3d72bac339dd"
      },
      "execution_count": null,
      "outputs": [
        {
          "output_type": "execute_result",
          "data": {
            "text/plain": [
              "0.7696666666666667"
            ]
          },
          "metadata": {},
          "execution_count": 27
        }
      ]
    },
    {
      "cell_type": "markdown",
      "source": [
        "The Area Under the Curve (AUC) is the measure of the ability of a classifier to distinguish between classes and is used as a summary of the ROC curve. The higher the AUC, the better the performance of the model at distinguishing between the positive and negative classes. The value is closer to 1, the better it is. In this case, value is decent i.e. 0.77"
      ],
      "metadata": {
        "id": "5AibgSkRyUB1"
      }
    },
    {
      "cell_type": "markdown",
      "source": [
        "## Predicting on New Customer Dataset - Loading Data"
      ],
      "metadata": {
        "id": "vgsjRB8TPwt8"
      }
    },
    {
      "cell_type": "markdown",
      "source": [
        "##xxiii) Fitting the model:"
      ],
      "metadata": {
        "id": "dgoW16AZBQuZ"
      }
    },
    {
      "cell_type": "code",
      "source": [
        "final_lrModel = lr.fit(final_data)"
      ],
      "metadata": {
        "id": "qdSTUlbEP1Cb"
      },
      "execution_count": null,
      "outputs": []
    },
    {
      "cell_type": "code",
      "source": [
        "new_customers = spark.read.csv('/content/new_customers.csv',inferSchema=True,header=True)"
      ],
      "metadata": {
        "id": "yTxEEEQZP2uk"
      },
      "execution_count": null,
      "outputs": []
    },
    {
      "cell_type": "markdown",
      "source": [
        "####xxix) The inferred schema can be visualized as below:"
      ],
      "metadata": {
        "id": "f5gj1hPv0JJd"
      }
    },
    {
      "cell_type": "code",
      "source": [
        "new_customers.printSchema()"
      ],
      "metadata": {
        "colab": {
          "base_uri": "https://localhost:8080/"
        },
        "id": "JcxuUxFZP5dq",
        "outputId": "7bada44f-cc19-456e-c747-f59a7512afa9"
      },
      "execution_count": null,
      "outputs": [
        {
          "output_type": "stream",
          "name": "stdout",
          "text": [
            "root\n",
            " |-- Names: string (nullable = true)\n",
            " |-- Age: integer (nullable = true)\n",
            " |-- Total_Purchase: double (nullable = true)\n",
            " |-- Account_Manager: integer (nullable = true)\n",
            " |-- Years: double (nullable = true)\n",
            " |-- Num_Sites: integer (nullable = true)\n",
            " |-- Onboard_date: string (nullable = true)\n",
            " |-- Location: string (nullable = true)\n",
            " |-- Company: string (nullable = true)\n",
            "\n"
          ]
        }
      ]
    },
    {
      "cell_type": "markdown",
      "source": [
        "####xxv) Computing summary statistics on the DataFrame:"
      ],
      "metadata": {
        "id": "v5oeM8KK0wZs"
      }
    },
    {
      "cell_type": "code",
      "source": [
        "new_customers.describe().show()"
      ],
      "metadata": {
        "colab": {
          "base_uri": "https://localhost:8080/"
        },
        "id": "ME2wBtPyP60S",
        "outputId": "6d37240f-e2e8-43bb-e357-af21cb0e1d80"
      },
      "execution_count": null,
      "outputs": [
        {
          "output_type": "stream",
          "name": "stdout",
          "text": [
            "+-------+-------------+------------------+-----------------+------------------+-----------------+------------------+----------------+--------------------+----------------+\n",
            "|summary|        Names|               Age|   Total_Purchase|   Account_Manager|            Years|         Num_Sites|    Onboard_date|            Location|         Company|\n",
            "+-------+-------------+------------------+-----------------+------------------+-----------------+------------------+----------------+--------------------+----------------+\n",
            "|  count|            6|                 6|                6|                 6|                6|                 6|               6|                   6|               6|\n",
            "|   mean|         null|35.166666666666664|7607.156666666667|0.8333333333333334|6.808333333333334|12.333333333333334|            null|                null|            null|\n",
            "| stddev|         null| 15.71517313511584|4346.008232825459| 0.408248290463863|3.708737880555414|3.3862466931200785|            null|                null|            null|\n",
            "|    min|Andrew Mccall|                22|            100.0|                 0|              1.0|                 8|04-02-2011 19:29|085 Austin Views ...|Barron-Robertson|\n",
            "|    max| Taylor Young|                65|         13147.71|                 1|             10.0|                15|29-08-2011 18:37|Unit 0789 Box 073...|        Wood LLC|\n",
            "+-------+-------------+------------------+-----------------+------------------+-----------------+------------------+----------------+--------------------+----------------+\n",
            "\n"
          ]
        }
      ]
    },
    {
      "cell_type": "markdown",
      "source": [
        "####xxvi) Utilizing Assembler to Transform the Data :"
      ],
      "metadata": {
        "id": "4tBU-Uag2kbP"
      }
    },
    {
      "cell_type": "code",
      "source": [
        "test_new_customers = assembler.transform(new_customers)"
      ],
      "metadata": {
        "id": "Pzhx8l-xP8BH"
      },
      "execution_count": null,
      "outputs": []
    },
    {
      "cell_type": "markdown",
      "source": [
        "####xxvii) The inferred schema can be visualized as below:"
      ],
      "metadata": {
        "id": "Vu1nMz4Y3mNv"
      }
    },
    {
      "cell_type": "code",
      "source": [
        "test_new_customers.printSchema()"
      ],
      "metadata": {
        "colab": {
          "base_uri": "https://localhost:8080/"
        },
        "id": "vbMjtblEQJ-x",
        "outputId": "b09ba3f9-c559-4150-8885-b7938a6f7a9f"
      },
      "execution_count": null,
      "outputs": [
        {
          "output_type": "stream",
          "name": "stdout",
          "text": [
            "root\n",
            " |-- Names: string (nullable = true)\n",
            " |-- Age: integer (nullable = true)\n",
            " |-- Total_Purchase: double (nullable = true)\n",
            " |-- Account_Manager: integer (nullable = true)\n",
            " |-- Years: double (nullable = true)\n",
            " |-- Num_Sites: integer (nullable = true)\n",
            " |-- Onboard_date: string (nullable = true)\n",
            " |-- Location: string (nullable = true)\n",
            " |-- Company: string (nullable = true)\n",
            " |-- features: vector (nullable = true)\n",
            "\n"
          ]
        }
      ]
    },
    {
      "cell_type": "markdown",
      "source": [
        "--> Here we do not have churn data as this is new customer dataset which is realtime data and does not contain churn data."
      ],
      "metadata": {
        "id": "emOMl1LP3x65"
      }
    },
    {
      "cell_type": "markdown",
      "source": [
        "#### xxviii) Running Final Tests"
      ],
      "metadata": {
        "id": "aH8dbFt55FYA"
      }
    },
    {
      "cell_type": "code",
      "source": [
        "test_new_customers.count()"
      ],
      "metadata": {
        "colab": {
          "base_uri": "https://localhost:8080/"
        },
        "id": "abFqPqOj9b0S",
        "outputId": "bafa52a1-e462-4a7a-f1ce-fccb706e17f1"
      },
      "execution_count": null,
      "outputs": [
        {
          "output_type": "execute_result",
          "data": {
            "text/plain": [
              "6"
            ]
          },
          "metadata": {},
          "execution_count": 52
        }
      ]
    },
    {
      "cell_type": "code",
      "source": [
        "final_test = test_new_customers.select('features','company')"
      ],
      "metadata": {
        "id": "MJaemhK0QK9Z"
      },
      "execution_count": null,
      "outputs": []
    },
    {
      "cell_type": "code",
      "source": [
        "results = final_lrModel.transform(final_test)"
      ],
      "metadata": {
        "id": "yxN7Z1dWQMMN"
      },
      "execution_count": null,
      "outputs": []
    },
    {
      "cell_type": "markdown",
      "source": [
        "#### xxix) Prediction Outcome"
      ],
      "metadata": {
        "id": "jfqr_r1h5d10"
      }
    },
    {
      "cell_type": "code",
      "source": [
        "results.show()"
      ],
      "metadata": {
        "colab": {
          "base_uri": "https://localhost:8080/"
        },
        "id": "04ts8IFIQNOn",
        "outputId": "495f1472-735d-4a98-ce4e-2d1788b4eebc"
      },
      "execution_count": null,
      "outputs": [
        {
          "output_type": "stream",
          "name": "stdout",
          "text": [
            "+--------------------+----------------+--------------------+--------------------+----------+\n",
            "|            features|         company|       rawPrediction|         probability|prediction|\n",
            "+--------------------+----------------+--------------------+--------------------+----------+\n",
            "|[37.0,9935.53,1.0...|        King Ltd|[2.22168705251434...|[0.90218018099704...|       0.0|\n",
            "|[23.0,7526.94,1.0...|   Cannon-Benson|[-6.2207530595013...|[0.00198380445829...|       1.0|\n",
            "|[65.0,100.0,1.0,1...|Barron-Robertson|[-3.7691621189411...|[0.02255110110411...|       1.0|\n",
            "|[32.0,6487.5,0.0,...|   Texton-Golden|[-5.0956222016513...|[0.00608622642085...|       1.0|\n",
            "|[32.0,13147.71,1....|        Wood LLC|[1.10475867224171...|[0.75115067517478...|       0.0|\n",
            "|[22.0,8445.26,1.0...|   Parks-Robbins|[-1.6896019277060...|[0.15582819767641...|       1.0|\n",
            "+--------------------+----------------+--------------------+--------------------+----------+\n",
            "\n"
          ]
        }
      ]
    },
    {
      "cell_type": "markdown",
      "source": [
        "##As per the results,  out of Six (6) customers, Four (4) customers i.e. Cannon-Benson, Barron-Robertson, Texton-Golden and Parks-Robbins are projected to get churned and Marketing Agency would require to implement corrective measures by assigning account managers for these churning customers, accordingly."
      ],
      "metadata": {
        "id": "aY6byigb5nAh"
      }
    }
  ]
}